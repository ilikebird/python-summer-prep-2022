{
 "cells": [
  {
   "cell_type": "markdown",
   "metadata": {},
   "source": [
    "# List Overlap \n",
    "Write a program that returns a list that contains only the elements that are common between the lists (without duplicates). Make sure your program works on two lists of different sizes."
   ]
  },
  {
   "cell_type": "code",
   "execution_count": 12,
   "metadata": {},
   "outputs": [
    {
     "data": {
      "text/plain": [
       "{1, 2, 3, 5, 8, 13}"
      ]
     },
     "execution_count": 12,
     "metadata": {},
     "output_type": "execute_result"
    }
   ],
   "source": [
    "a = [1, 1, 2, 3, 5, 8, 13, 21, 34, 55, 89]\n",
    "b = [1, 2, 3, 4, 5, 6, 7, 8, 9, 10, 11, 12, 13]\n",
    "\n",
    "\n",
    "list3 = []\n",
    "\n",
    "for i in a:\n",
    "    for j in b:\n",
    "        if(i == j):\n",
    "            list3.append(j)\n",
    "  \n",
    "        \n",
    "set1 = set(list3)\n",
    "\n",
    "set1\n"
   ]
  },
  {
   "cell_type": "markdown",
   "metadata": {},
   "source": [
    "# Rock Paper Scissors\n",
    "\n",
    "Make a two-player Rock-Paper-Scissors game. (Hint: Ask for player plays (using input), compare them, print out a message of congratulations to the winner.)\n",
    "\n",
    "Remember the rules:\n",
    "\n",
    "* Rock beats scissors\n",
    "* Scissors beats paper\n",
    "* Paper beats rock"
   ]
  },
  {
   "cell_type": "code",
   "execution_count": 28,
   "metadata": {},
   "outputs": [
    {
     "name": "stdout",
     "output_type": "stream",
     "text": [
      "We are playing rock,paper, scissors. Please input your choice:\n",
      "Rock or paper or scissor?RoCk\n",
      "Rock or paper or scissor?PaPer\n",
      "Player1 input is  rock\n",
      "Player2 input is  paper\n",
      "Paper wraps Rock and player2 Won the Game ,CONGRATULATIONS\n"
     ]
    }
   ],
   "source": [
    "print(\"We are playing rock,paper, scissors. Please input your choice:\")\n",
    "\n",
    "player1 = input(\"Rock or paper or scissor?\").lower()\n",
    "player2 = input(\"Rock or paper or scissor?\").lower()\n",
    "\n",
    "print(\"Player1 input is \", player1)\n",
    "print(\"Player2 input is \", player2)\n",
    "\n",
    "if player1 == player2:\n",
    "    print(\"Draw! Nobody wins\")\n",
    "elif player1 == \"rock\" and player2 == \"paper\":\n",
    "    print(\"Paper wraps Rock and player2 Won the Game ,CONGRATULATIONS\")\n",
    "elif player2 == \"rock\" and player1 == \"paper\":\n",
    "    print(\"Paper wraps Rock and player2 Won the Game ,CONGRATULATIONS\")\n",
    "elif player1 == \"scissor\" and player2 == \"paper\":\n",
    "    print(\"Scissors cuts Paper and player1 Won the Game , CONGRATULATIONS\")\n",
    "elif player2 == \"scissor\" and player1 == \"paper\":\n",
    "    print(\"Scissors cuts Paper and player2 Won the Game , CONGRATULATIONS\")\n",
    "elif player1 == \"rock\" and player2 == \"scissor\":\n",
    "    print(\"Rock smashes the Scissors and Player1 won the game.\")\n",
    "elif player2 == \"rock\" and player1 == \"scissor\":\n",
    "    print(\"Rock smashes the Scissors and Player2 won the game.\")\n",
    "else:\n",
    "    print(\"invalid syntax\")\n",
    "        "
   ]
  },
  {
   "cell_type": "markdown",
   "metadata": {},
   "source": [
    "# Palindrome \n",
    "\n",
    "Ask the user for a string and print out whether this string is a palindrome or not. (A palindrome is a string that reads the same forwards and backwards.)"
   ]
  },
  {
   "cell_type": "code",
   "execution_count": 38,
   "metadata": {},
   "outputs": [
    {
     "name": "stdout",
     "output_type": "stream",
     "text": [
      "Type a word and I will cehck if it's a palindrome or not\n",
      "Give me a word: Noson\n",
      "It's a palindrome\n"
     ]
    }
   ],
   "source": [
    "print(\"Type a word and I will cehck if it's a palindrome or not\")\n",
    "word = input(\"Give me a word: \").lower()\n",
    "reverse_word = word[::-1]\n",
    "\n",
    "if word == reverse_word:\n",
    "    print(\"It's a palindrome\")\n",
    "else:\n",
    "    print(\"It's not a palindrome\")"
   ]
  },
  {
   "cell_type": "markdown",
   "metadata": {},
   "source": [
    "# Password Generator\n",
    "Write a password generator in Python. Be creative with how you generate passwords - strong passwords have a mix of lowercase letters, uppercase letters, numbers, and symbols. The passwords should be random.  Ask the user to input how long they want their password to be. "
   ]
  },
  {
   "cell_type": "code",
   "execution_count": 13,
   "metadata": {},
   "outputs": [
    {
     "name": "stdout",
     "output_type": "stream",
     "text": [
      "Please enter the length of your password:\n",
      "8\n",
      "Password:  GIOuq1W(\n"
     ]
    }
   ],
   "source": [
    "import random\n",
    "chars = \"abcdefghijklmnopqrstuvwxyz01234567890ABCDEFGHIJKLMNOPQRSTUVWXYZ!@#$%^&*()?\"\n",
    "print(\"Please enter the length of your password:\")\n",
    "size = input()\n",
    "\n",
    "container = \" \"\n",
    "for i in range(int(size)):\n",
    "    container = container + random.choice(chars)\n",
    "\n",
    "print(\"Password:\",container)"
   ]
  },
  {
   "cell_type": "markdown",
   "metadata": {},
   "source": [
    "# Divisors Solutions\n",
    "\n",
    "Create a program that asks the user for a number and then prints out a list of all the divisors of that number. (If you don’t know what a divisor is, it is a number that divides evenly into another number. For example, 13 is a divisor of 26 because 26 / 13 has no remainder.)"
   ]
  },
  {
   "cell_type": "code",
   "execution_count": 24,
   "metadata": {},
   "outputs": [
    {
     "name": "stdout",
     "output_type": "stream",
     "text": [
      "Please enter a number:75\n",
      "1\n",
      "3\n",
      "5\n",
      "15\n",
      "25\n",
      "75\n"
     ]
    }
   ],
   "source": [
    "user_input = input(\"Please enter a number:\")\n",
    "num = int(user_input)\n",
    "for i in range(1, 100):\n",
    "    if (num % i) == 0:\n",
    "        print(i)"
   ]
  },
  {
   "cell_type": "markdown",
   "metadata": {},
   "source": [
    "# Missing Character\n",
    "Given a non-empty string and an int n, return a new string where the char at index n has been removed. The value of n will be a valid index of a char in the original string (i.e. n will be in the range 0..len(str)-1 inclusive).\n",
    "\n",
    "```\n",
    "missing_char('kitten', 1) → 'ktten'\n",
    "missing_char('kitten', 0) → 'itten'\n",
    "missing_char('kitten', 4) → 'kittn'\n",
    "\n",
    "```"
   ]
  },
  {
   "cell_type": "code",
   "execution_count": 61,
   "metadata": {},
   "outputs": [
    {
     "data": {
      "text/plain": [
       "' kittn'"
      ]
     },
     "execution_count": 61,
     "metadata": {},
     "output_type": "execute_result"
    }
   ],
   "source": [
    "def missing_char(word, n):\n",
    "   \n",
    "    string = \" \"\n",
    "    for i in range(0, len(word)): \n",
    "        if i != n:\n",
    "            string += word[i]\n",
    "            \n",
    "    return string  \n",
    "\n",
    "missing_char('kitten', 4)\n",
    "\n"
   ]
  },
  {
   "cell_type": "markdown",
   "metadata": {},
   "source": [
    "# Centered Average\n",
    "\n",
    "Return the \"centered\" average of an array of ints, which we'll say is the mean average of the values, except ignoring the largest and smallest values in the array. If there are multiple copies of the smallest value, ignore just one copy, and likewise for the largest value.  You may assume that the array is length 3 or more and will never contain negative values. \n",
    "* Round your answer to the nearest whole number.\n",
    "\n",
    "```\n",
    "centered_average([1, 2, 3, 4, 100]) → 3\n",
    "centered_average([1, 1, 5, 5, 10, 8, 7]) → 5\n",
    "```"
   ]
  },
  {
   "cell_type": "code",
   "execution_count": 66,
   "metadata": {},
   "outputs": [
    {
     "name": "stdout",
     "output_type": "stream",
     "text": [
      "75\n"
     ]
    }
   ],
   "source": [
    "example_list = [100, 100, 50, 75, 50, 25, 25]\n",
    "length = len(example_list)\n",
    "\n",
    "mid = length // 2\n",
    "print(example_list[mid])\n",
    "\n"
   ]
  },
  {
   "cell_type": "code",
   "execution_count": null,
   "metadata": {},
   "outputs": [],
   "source": []
  }
 ],
 "metadata": {
  "kernelspec": {
   "display_name": "Python 3",
   "language": "python",
   "name": "python3"
  },
  "language_info": {
   "codemirror_mode": {
    "name": "ipython",
    "version": 3
   },
   "file_extension": ".py",
   "mimetype": "text/x-python",
   "name": "python",
   "nbconvert_exporter": "python",
   "pygments_lexer": "ipython3",
   "version": "3.8.3"
  }
 },
 "nbformat": 4,
 "nbformat_minor": 4
}
