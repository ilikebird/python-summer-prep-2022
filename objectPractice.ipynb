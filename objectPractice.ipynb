{
 "cells": [
  {
   "cell_type": "code",
   "execution_count": 14,
   "metadata": {},
   "outputs": [
    {
     "ename": "SyntaxError",
     "evalue": "invalid syntax (<ipython-input-14-da5f34c68a55>, line 9)",
     "output_type": "error",
     "traceback": [
      "\u001b[0;36m  File \u001b[0;32m\"<ipython-input-14-da5f34c68a55>\"\u001b[0;36m, line \u001b[0;32m9\u001b[0m\n\u001b[0;31m    my_dog = Dog(name = \"Tommy\", age = 9):\u001b[0m\n\u001b[0m                                         ^\u001b[0m\n\u001b[0;31mSyntaxError\u001b[0m\u001b[0;31m:\u001b[0m invalid syntax\n"
     ]
    }
   ],
   "source": [
    "class Dog:\n",
    "    #The first function must have \"_init_\" in it\n",
    "    \n",
    "    def _init_(self, name, age): #the first function must have \"self\" in it\n",
    "        self.name = name\n",
    "        self.age = age\n",
    "    \n",
    "    #crating another method for the dog to speak\n",
    "    def speak(self):\n",
    "        print(self.name, \" says woof\")\n",
    "    def say_age(self):\n",
    "        print(self.age)\n",
    "        \n",
    "#we are creating a new dog object\n",
    "my_dog = Dog(name = \"Tommy\", age = 9):\n",
    "print(my_dog.name)\n",
    "my_dog.speak()\n",
    "my_dog.say_age()\n",
    "\n",
    "another_dog = Dog(self, \"wizzy\", 2):\n",
    "    print(another_dog.age)\n",
    "        "
   ]
  },
  {
   "cell_type": "code",
   "execution_count": null,
   "metadata": {},
   "outputs": [],
   "source": []
  },
  {
   "cell_type": "code",
   "execution_count": null,
   "metadata": {},
   "outputs": [],
   "source": []
  },
  {
   "cell_type": "code",
   "execution_count": 16,
   "metadata": {},
   "outputs": [
    {
     "ename": "TypeError",
     "evalue": "Human() takes no arguments",
     "output_type": "error",
     "traceback": [
      "\u001b[0;31m---------------------------------------------------------------------------\u001b[0m",
      "\u001b[0;31mTypeError\u001b[0m                                 Traceback (most recent call last)",
      "\u001b[0;32m<ipython-input-16-5f2860b44cb4>\u001b[0m in \u001b[0;36m<module>\u001b[0;34m\u001b[0m\n\u001b[1;32m      5\u001b[0m            \u001b[0mself\u001b[0m\u001b[0;34m.\u001b[0m\u001b[0maddress\u001b[0m \u001b[0;34m=\u001b[0m \u001b[0maddress\u001b[0m\u001b[0;34m\u001b[0m\u001b[0;34m\u001b[0m\u001b[0m\n\u001b[1;32m      6\u001b[0m \u001b[0;34m\u001b[0m\u001b[0m\n\u001b[0;32m----> 7\u001b[0;31m \u001b[0mman\u001b[0m \u001b[0;34m=\u001b[0m \u001b[0mHuman\u001b[0m\u001b[0;34m(\u001b[0m\u001b[0;34m'Alex'\u001b[0m\u001b[0;34m,\u001b[0m \u001b[0;36m5\u001b[0m\u001b[0;34m,\u001b[0m \u001b[0;34m\"123 E 5th street\"\u001b[0m\u001b[0;34m)\u001b[0m\u001b[0;34m\u001b[0m\u001b[0;34m\u001b[0m\u001b[0m\n\u001b[0m\u001b[1;32m      8\u001b[0m \u001b[0mman\u001b[0m\u001b[0;34m.\u001b[0m\u001b[0mname\u001b[0m\u001b[0;34m\u001b[0m\u001b[0;34m\u001b[0m\u001b[0m\n",
      "\u001b[0;31mTypeError\u001b[0m: Human() takes no arguments"
     ]
    }
   ],
   "source": [
    " class Human:\n",
    "        def _init_(self, name = 'dew', age  = 6, address = '123 e5 road'):\n",
    "            self.name = name\n",
    "            self.age = age\n",
    "            self.address = address\n",
    "        def grow(self,years = 1 ):\n",
    "            self.age +=5; \n",
    "        \n",
    "#man = Human('Alex', 5, \"123 E 5th street\")\n",
    "#print(man.age)\n",
    "dude = Human()\n",
    "dude.age\n",
    "#man.grow(self, years = 1)\n",
    "#print(man.age)\n"
   ]
  },
  {
   "cell_type": "code",
   "execution_count": 19,
   "metadata": {},
   "outputs": [],
   "source": [
    "def say_something(other_thing, input_string = 'bubble'):\n",
    "    print(input_string, other_thing)\n",
    "    \n",
    "#by default, it will print this value for say_somethign\n",
    "#say_something('bubble gum')"
   ]
  },
  {
   "cell_type": "code",
   "execution_count": null,
   "metadata": {},
   "outputs": [],
   "source": [
    "#definig the path to the file you want to read\n",
    "path_to_file = 'data/lil-waynetxt'\n",
    "file_handle = open(path_to_file, 'r')\n",
    "data = file_handle.readLines()\n",
    "file_handle.close()\n",
    "type(data)\n",
    "data[0]\n"
   ]
  },
  {
   "cell_type": "code",
   "execution_count": null,
   "metadata": {},
   "outputs": [],
   "source": [
    "#writting to a file\n",
    "path_to_file = 'data/my_new_file.txt'\n",
    "file_object = open(path_to_file, mode = 'w')\n",
    "my_text = 'Hi there'\n",
    "\n",
    "file_object.write(my_text)\n",
    "file_object.close()\n"
   ]
  }
 ],
 "metadata": {
  "kernelspec": {
   "display_name": "Python 3",
   "language": "python",
   "name": "python3"
  },
  "language_info": {
   "codemirror_mode": {
    "name": "ipython",
    "version": 3
   },
   "file_extension": ".py",
   "mimetype": "text/x-python",
   "name": "python",
   "nbconvert_exporter": "python",
   "pygments_lexer": "ipython3",
   "version": "3.8.3"
  }
 },
 "nbformat": 4,
 "nbformat_minor": 4
}
